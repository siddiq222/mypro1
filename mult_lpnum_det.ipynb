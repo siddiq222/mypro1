{
 "cells": [
  {
   "cell_type": "code",
   "execution_count": 41,
   "id": "1acfc8d7-aca2-46b1-9087-2d887b35305f",
   "metadata": {},
   "outputs": [
    {
     "name": "stderr",
     "output_type": "stream",
     "text": [
      "Neither CUDA nor MPS are available - defaulting to CPU. Note: This module is much faster with a GPU.\n"
     ]
    },
    {
     "name": "stdout",
     "output_type": "stream",
     "text": [
      "\n",
      "0: 480x640 1 license_plate, 172.7ms\n",
      "Speed: 102.1ms preprocess, 172.7ms inference, 2.4ms postprocess per image at shape (1, 3, 480, 640)\n",
      "MHI2 DE1433\n",
      "Maharashtra\n",
      "\n",
      "0: 512x640 1 license_plate, 237.5ms\n",
      "Speed: 8.9ms preprocess, 237.5ms inference, 2.2ms postprocess per image at shape (1, 3, 512, 640)\n",
      "KL 65 H 4383\n",
      "Kerala\n",
      "\n",
      "0: 480x640 1 license_plate, 139.4ms\n",
      "Speed: 6.9ms preprocess, 139.4ms inference, 2.2ms postprocess per image at shape (1, 3, 480, 640)\n",
      "KA G2MP 9657\n",
      "Karnataka\n",
      "\n",
      "0: 480x640 1 license_plate, 187.9ms\n",
      "Speed: 7.3ms preprocess, 187.9ms inference, 2.3ms postprocess per image at shape (1, 3, 480, 640)\n",
      "KA 02MP 9657\n",
      "Karnataka\n",
      "\n",
      "0: 384x640 1 license_plate, 126.6ms\n",
      "Speed: 8.0ms preprocess, 126.6ms inference, 3.3ms postprocess per image at shape (1, 3, 384, 640)\n",
      "KA 03 AB 3289\n",
      "Karnataka\n",
      "\n",
      "0: 448x640 1 license_plate, 142.5ms\n",
      "Speed: 6.9ms preprocess, 142.5ms inference, 2.2ms postprocess per image at shape (1, 3, 448, 640)\n",
      "TN87 TC 051\n",
      "Tamil Nadu\n"
     ]
    }
   ],
   "source": [
    "import cv2\n",
    "import matplotlib.pyplot as plt\n",
    "import easyocr\n",
    "from ultralytics import YOLO\n",
    "import os\n",
    "states={'AP':'Andhra Pradesh','AR':'Arunachal Pradesh','MH':'Maharashtra','KL':'Kerala','KA':'Karnataka','TN':'Tamil Nadu'}\n",
    "reader=easyocr.Reader(['en'])\n",
    "path=\"C:/Users/hussain siddiq/onlycars\"\n",
    "model=YOLO(r\"C:\\Users\\hussain siddiq\\Downloads\\license_plate_detector.pt\")\n",
    "for i in os.listdir(path):\n",
    "    x=path+\"/\"+i\n",
    "    img=cv2.imread(x)\n",
    "    result=model.predict(img)\n",
    "    x1=int(result[0].boxes.xyxy.numpy()[0][0])\n",
    "    y1=int(result[0].boxes.xyxy.numpy()[0][1])\n",
    "    x2=int(result[0].boxes.xyxy.numpy()[0][2])\n",
    "    y2=int(result[0].boxes.xyxy.numpy()[0][3])\n",
    "    lpnum=reader.readtext(img[y1:y2,x1:x2])\n",
    "    print(lpnum[0][1])\n",
    "    print(states[lpnum[0][1][:2].upper()])\n",
    "    "
   ]
  },
  {
   "cell_type": "code",
   "execution_count": null,
   "id": "81aa3cc8-1f12-4c1a-953f-c7d55eafa101",
   "metadata": {},
   "outputs": [],
   "source": []
  },
  {
   "cell_type": "code",
   "execution_count": null,
   "id": "74efde19-c561-4566-ad10-657455da17d8",
   "metadata": {},
   "outputs": [],
   "source": []
  },
  {
   "cell_type": "code",
   "execution_count": null,
   "id": "ad601b60-6921-4ce0-a81d-83166b965f71",
   "metadata": {},
   "outputs": [],
   "source": []
  }
 ],
 "metadata": {
  "kernelspec": {
   "display_name": "Python 3 (ipykernel)",
   "language": "python",
   "name": "python3"
  },
  "language_info": {
   "codemirror_mode": {
    "name": "ipython",
    "version": 3
   },
   "file_extension": ".py",
   "mimetype": "text/x-python",
   "name": "python",
   "nbconvert_exporter": "python",
   "pygments_lexer": "ipython3",
   "version": "3.11.13"
  }
 },
 "nbformat": 4,
 "nbformat_minor": 5
}
